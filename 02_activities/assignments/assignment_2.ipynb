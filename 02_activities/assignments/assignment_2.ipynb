{
 "cells": [
  {
   "cell_type": "markdown",
   "metadata": {
    "id": "QmzeljDgm4Ll"
   },
   "source": [
    "# Assignment #2: Efficacy Analysis of a Hypothetical Arthritis Drug\n",
    "\n",
    "**Objective**: In this assignment, your task is to utilize Python programming skills to evaluate the effectiveness of a fictional medication designed to reduce inflammation caused by arthritis flare-ups.\n",
    "\n",
    "**Background**: Imagine a clinical trial where 60 patients were administered a new drug for arthritis. Data from this trial has been recorded in a series of CSV files. Evaluate the effectiveness of a fictional medication designed to reduce inflammation caused by arthritis flare-ups.\n",
    "\n",
    "**Data Structure**:\n",
    "- Each CSV file corresponds to a specific check-in session with the patients.\n",
    "- There are 12 such CSV files, reflecting 12 different sessions where patients reported their experiences.\n",
    "- Inside each file:\n",
    "  - Rows: Each of the 60 rows represents a unique patient.\n",
    "  - Columns: Each of the 40 columns corresponds to a day, detailing the number of inflammation flare-ups the patient experienced on that day.\n",
    "\n",
    "**Your Role**: Analyze this data to determine how effective the new drug has been in managing arthritis inflammation across the trial period."
   ]
  },
  {
   "cell_type": "markdown",
   "metadata": {},
   "source": [
    "## Submission Information\n",
    "\n",
    "🚨 **Please review our [Assignment Submission Guide](https://github.com/UofT-DSI/onboarding/blob/main/onboarding_documents/submissions.md)** 🚨 for detailed instructions on how to format, branch, and submit your work. Following these guidelines is crucial for your submissions to be evaluated correctly.\n",
    "\n",
    "### Submission Parameters:\n",
    "* Submission Due Date: `11:59 PM - August 31, 2025`\n",
    "* The branch name for your repo should be: `assignment-2`\n",
    "* What to submit for this assignment:\n",
    "    * This Jupyter Notebook (assignment_2.ipynb) should be populated and should be the only change in your pull request.\n",
    "* What the pull request link should look like for this assignment: `https://github.com/<your_github_username>/python/pull/<pr_id>`\n",
    "    * Open a private window in your browser. Copy and paste the link to your pull request into the address bar. Make sure you can see your pull request properly. This helps the technical facilitator and learning support staff review your submission easily.\n",
    "\n",
    "Checklist:\n",
    "- [ ] Created a branch with the correct naming convention.\n",
    "- [ ] Ensured that the repository is public.\n",
    "- [ ] Reviewed the PR description guidelines and adhered to them.\n",
    "- [ ] Verify that the link is accessible in a private browser window.\n",
    "\n",
    "If you encounter any difficulties or have questions, please don't hesitate to reach out to our team via our Slack at `#dc-help`. Our Technical Facilitators and Learning Support staff are here to help you navigate any challenges."
   ]
  },
  {
   "cell_type": "markdown",
   "metadata": {
    "id": "yMsC2qsiKNP8"
   },
   "source": [
    "**The file is located under `python/05_src/data/assignment_2_data/`. The filtered list has been made for you `all_paths` below.**\n",
    "\n"
   ]
  },
  {
   "cell_type": "markdown",
   "metadata": {
    "id": "JhJAJb1m-nkn"
   },
   "source": [
    "## 1. Reading and Displaying Data from the First File\n",
    "\n",
    "With the list of the relevant `inflammation_xx.csv` file paths above, write a program to read the `inflammation_xx.csv` files, and display the contents of the first file in this list.\n",
    "\n",
    "**Hint**: Remember to use appropriate Python file handling and data reading methods. If you need guidance on how to handle CSV files in Python, refer to the relevant sections in your Python learning resources."
   ]
  },
  {
   "cell_type": "code",
   "execution_count": null,
   "metadata": {
    "id": "n0m48JsS-nMC"
   },
   "outputs": [],
   "source": [
    "all_paths = [\n",
    "  \"python/05_src/data/assignment_2_data/inflammation_01.csv\",\n",
    "  \"python/05_src/data/assignment_2_data/inflammation_02.csv\",\n",
    "  \"python/05_src/data/assignment_2_data/inflammation_03.csv\",\n",
    "  \"python/05_src/data/assignment_2_data/inflammation_04.csv\",\n",
    "  \"python/05_src/data/assignment_2_data/inflammation_05.csv\",\n",
    "  \"python/05_src/data/assignment_2_data/inflammation_06.csv\",\n",
    "  \"python/05_src/data/assignment_2_data/inflammation_07.csv\",\n",
    "  \"python/05_src/data/assignment_2_data/inflammation_08.csv\",\n",
    "  \"python/05_src/data/assignment_2_data/inflammation_09.csv\",\n",
    "  \"python/05_src/data/assignment_2_data/inflammation_10.csv\",\n",
    "  \"python/05_src/data/assignment_2_data/inflammation_11.csv\",\n",
    "  \"python/05_src/data/assignment_2_data/inflammation_12.csv\"\n",
    "]\n",
    "\n",
    "with open(all_paths[0], 'r') as f:\n",
    "    # YOUR CODE HERE: Use the readline() or readlines() method to read the .csv file into a variable\n",
    "    \n",
    "    # YOUR CODE HERE: Iterate through the variable using a for loop and print each row for inspection"
   ]
  },
  {
   "cell_type": "code",
   "execution_count": 54,
   "metadata": {},
   "outputs": [
    {
     "name": "stdout",
     "output_type": "stream",
     "text": [
      "c:\\Users\\chait\\python\\02_activities\\assignments\n"
     ]
    }
   ],
   "source": [
    "import os\n",
    "print(os.getcwd())\n"
   ]
  },
  {
   "cell_type": "code",
   "execution_count": 55,
   "metadata": {},
   "outputs": [
    {
     "name": "stdout",
     "output_type": "stream",
     "text": [
      "['assignment_1.ipynb', 'assignment_2.ipynb']\n"
     ]
    }
   ],
   "source": [
    "print(os.listdir())\n"
   ]
  },
  {
   "cell_type": "code",
   "execution_count": 56,
   "metadata": {},
   "outputs": [],
   "source": [
    "all_paths = [\"05_src/data/assignment_2_data/inflammation_01.csv\"]\n"
   ]
  },
  {
   "cell_type": "code",
   "execution_count": 57,
   "metadata": {},
   "outputs": [],
   "source": [
    "all_paths = [\n",
    "  \"C:/Users/chait/miniconda3/envs/dsi_participant/lib/site-packages/python/05_src/data/assignment_2_data/inflammation_01.csv\"\n",
    "]\n"
   ]
  },
  {
   "cell_type": "code",
   "execution_count": 58,
   "metadata": {},
   "outputs": [
    {
     "name": "stdout",
     "output_type": "stream",
     "text": [
      "[]\n"
     ]
    }
   ],
   "source": [
    "import glob\n",
    "\n",
    "all_paths = glob.glob(\"**/inflammation_*.csv\", recursive=True)\n",
    "print(all_paths)  # shows all found files\n"
   ]
  },
  {
   "cell_type": "code",
   "execution_count": 59,
   "metadata": {},
   "outputs": [
    {
     "name": "stdout",
     "output_type": "stream",
     "text": [
      "Found at: C:/Users/chait\\Desktop\\python\\05_src\\data\\assignment_2_data\\inflammation_01.csv\n"
     ]
    }
   ],
   "source": [
    "import os\n",
    "\n",
    "search_root = \"C:/Users/chait\"  # start search from your user folder\n",
    "target_file = \"inflammation_01.csv\"\n",
    "\n",
    "found = False\n",
    "for root, dirs, files in os.walk(search_root):\n",
    "    if target_file in files:\n",
    "        print(\"Found at:\", os.path.join(root, target_file))\n",
    "        found = True\n",
    "        break\n",
    "\n",
    "if not found:\n",
    "    print(\"File not found anywhere under\", search_root)\n"
   ]
  },
  {
   "cell_type": "code",
   "execution_count": 52,
   "metadata": {},
   "outputs": [
    {
     "ename": "IndentationError",
     "evalue": "expected an indented block (1915059007.py, line 19)",
     "output_type": "error",
     "traceback": [
      "\u001b[1;36m  Cell \u001b[1;32mIn[52], line 19\u001b[1;36m\u001b[0m\n\u001b[1;33m    # YOUR CODE HERE: Iterate through the variable using a for loop and print each row for inspection\u001b[0m\n\u001b[1;37m                                                                                                     ^\u001b[0m\n\u001b[1;31mIndentationError\u001b[0m\u001b[1;31m:\u001b[0m expected an indented block\n"
     ]
    }
   ],
   "source": [
    "all_paths = [\n",
    "    \"C:/Users/chait/projects/dsi/python/05_src/data/assignment_2_data/inflammation_01.csv\",\n",
    "    \"C:/Users/chait/projects/dsi/python/05_src/data/assignment_2_data/inflammation_02.csv\",\n",
    "    \"C:/Users/chait/projects/dsi/python/05_src/data/assignment_2_data/inflammation_03.csv\",\n",
    "    \"C:/Users/chait/projects/dsi/python/05_src/data/assignment_2_data/inflammation_04.csv\",\n",
    "    \"C:/Users/chait/projects/dsi/python/05_src/data/assignment_2_data/inflammation_05.csv\",\n",
    "    \"C:/Users/chait/projects/dsi/python/05_src/data/assignment_2_data/inflammation_06.csv\",\n",
    "    \"C:/Users/chait/projects/dsi/python/05_src/data/assignment_2_data/inflammation_07.csv\",\n",
    "    \"C:/Users/chait/projects/dsi/python/05_src/data/assignment_2_data/inflammation_08.csv\",\n",
    "    \"C:/Users/chait/projects/dsi/python/05_src/data/assignment_2_data/inflammation_09.csv\",\n",
    "    \"C:/Users/chait/projects/dsi/python/05_src/data/assignment_2_data/inflammation_10.csv\",\n",
    "    \"C:/Users/chait/projects/dsi/python/05_src/data/assignment_2_data/inflammation_11.csv\",\n",
    "    \"C:/Users/chait/projects/dsi/python/05_src/data/assignment_2_data/inflammation_12.csv\"\n",
    "]\n",
    "\n",
    "with open(all_paths[0], 'r') as f:\n",
    "    # YOUR CODE HERE: Use the readline() or readlines() method to read the .csv file into a variable\n",
    "    \n",
    "    # YOUR CODE HERE: Iterate through the variable using a for loop and print each row for inspection"
   ]
  },
  {
   "cell_type": "markdown",
   "metadata": {
    "id": "pb9EugDCJA4c"
   },
   "source": [
    "**Understanding the `check_zeros(x)` Helper Function**\n",
    "\n",
    "The `check_zeros(x)` function is provided as a tool to assist with your data analysis. While you do not need to modify or fully understand the internal workings of this function, it's important to grasp its input, output, and what the output signifies:\n",
    "\n",
    "1. **Input**:\n",
    "   - **Parameter `x`**: This function takes an array of numbers as its input. In the context of your assignment, this array will typically represent a set of data points from your patient data, such as mean inflammation scores.\n",
    "\n",
    "2. **Output**:\n",
    "   - The function returns a boolean value: either `True` or `False`.\n",
    "\n",
    "3. **Interpreting the Output**:\n",
    "   - **Output is `True`**: This indicates that the array `x` contains at least one zero value. In the context of your analysis, this means that at least one patient has a mean inflammation score of 0, signaling a potential issue or anomaly in the data.\n",
    "   - **Output is `False`**: This signifies that there are no zero values in the array `x`. For your patient data, it means no patient has a mean inflammation score of 0, and thus no apparent anomalies of this type were detected.\n",
    "\n",
    "**Usage in Your Analysis**:\n",
    "When using `check_zeros(x)` in conjunction with your `patient_summary()` function in the `detect_problems()` function, you'll be checking whether any patient in your dataset has an average (mean) inflammation score of 0."
   ]
  },
  {
   "cell_type": "code",
   "execution_count": 60,
   "metadata": {
    "id": "_svDiRkdIwiT"
   },
   "outputs": [],
   "source": [
    "# Run this cell so you can use this helper function\n",
    "\n",
    "def check_zeros(x):\n",
    "    '''\n",
    "    Given an array, x, check whether any values in x equal 0.\n",
    "    Return True if any values found, else returns False.\n",
    "    '''\n",
    "    # np.where() checks every value in x against the condition (x == 0) and returns a tuple of indices where it was True (i.e. x was 0)\n",
    "    flag = np.where(x == 0)[0]\n",
    "\n",
    "    # Checks if there are any objects in flag (i.e. not empty)\n",
    "    # If not empty, it found at least one zero so flag is True, and vice-versa.\n",
    "    return len(flag) > 0"
   ]
  },
  {
   "cell_type": "code",
   "execution_count": 61,
   "metadata": {},
   "outputs": [],
   "source": [
    "import numpy as np\n",
    "\n",
    "def check_zeros(x):\n",
    "    '''\n",
    "    Given an array, x, check whether any values in x equal 0.\n",
    "    Return True if any values found, else returns False.\n",
    "    '''\n",
    "    flag = np.where(x == 0)[0]   # indices where x == 0\n",
    "    return len(flag) > 0         # True if any zeros found\n"
   ]
  },
  {
   "cell_type": "code",
   "execution_count": 62,
   "metadata": {},
   "outputs": [
    {
     "name": "stdout",
     "output_type": "stream",
     "text": [
      "False\n",
      "True\n"
     ]
    }
   ],
   "source": [
    "arr1 = np.array([1, 2, 3, 4])\n",
    "arr2 = np.array([1, 0, 3, 4])\n",
    "\n",
    "print(check_zeros(arr1))  # False\n",
    "print(check_zeros(arr2))  # True\n"
   ]
  },
  {
   "cell_type": "code",
   "execution_count": 63,
   "metadata": {},
   "outputs": [],
   "source": [
    "def check_zeros(x):\n",
    "    return np.any(x == 0)\n"
   ]
  },
  {
   "cell_type": "code",
   "execution_count": 64,
   "metadata": {
    "id": "LEYPM5v4JT0i"
   },
   "outputs": [],
   "source": [
    "# Define your function `detect_problems` here\n",
    "\n",
    "def detect_problems(file_path):\n",
    "  #YOUR CODE HERE: Use patient_summary() to get the means and check_zeros() to check for zeros in the means\n",
    "\n",
    "  return"
   ]
  },
  {
   "cell_type": "code",
   "execution_count": 70,
   "metadata": {},
   "outputs": [],
   "source": [
    "import numpy as np\n",
    "import pandas as pd\n",
    "\n",
    "# Assuming patient_summary() is defined elsewhere and returns a 1D array of mean values per patient\n",
    "# check_zeros() is already defined\n",
    "\n",
    "def detect_problems(file_path):\n",
    "    \"\"\"\n",
    "    Given a CSV file path, detect problems in the patient data.\n",
    "    Uses patient_summary() to get per-patient means and check_zeros() to see if any are zero.\n",
    "    \n",
    "    Returns:\n",
    "        True if there are any zeros in patient means, False otherwise.\n",
    "    \"\"\"\n",
    "    # Read CSV into DataFrame\n",
    "    data = pd.read_csv(file_path, header=None)\n",
    "    \n",
    "    # Get per-patient means using patient_summary()\n",
    "    means = patient_summary(data)\n",
    "    \n",
    "    # Check if any mean values are zero\n",
    "    has_problem = check_zeros(means)\n",
    "    \n",
    "    return has_problem\n"
   ]
  },
  {
   "cell_type": "code",
   "execution_count": 69,
   "metadata": {},
   "outputs": [
    {
     "ename": "FileNotFoundError",
     "evalue": "[Errno 2] No such file or directory: 'C:/Users/chait/projects/dsi/python/05_src/data/assignment_2_data/inflammation_01.csv'",
     "output_type": "error",
     "traceback": [
      "\u001b[1;31m---------------------------------------------------------------------------\u001b[0m",
      "\u001b[1;31mFileNotFoundError\u001b[0m                         Traceback (most recent call last)",
      "Cell \u001b[1;32mIn[69], line 3\u001b[0m\n\u001b[0;32m      1\u001b[0m \u001b[38;5;66;03m# Test out your code here\u001b[39;00m\n\u001b[0;32m      2\u001b[0m \u001b[38;5;66;03m# Your output for the first file should be False\u001b[39;00m\n\u001b[1;32m----> 3\u001b[0m \u001b[38;5;28mprint\u001b[39m(\u001b[43mdetect_problems\u001b[49m\u001b[43m(\u001b[49m\u001b[43mall_paths\u001b[49m\u001b[43m[\u001b[49m\u001b[38;5;241;43m0\u001b[39;49m\u001b[43m]\u001b[49m\u001b[43m)\u001b[49m)\n",
      "Cell \u001b[1;32mIn[68], line 16\u001b[0m, in \u001b[0;36mdetect_problems\u001b[1;34m(file_path)\u001b[0m\n\u001b[0;32m     15\u001b[0m \u001b[38;5;28;01mdef\u001b[39;00m\u001b[38;5;250m \u001b[39m\u001b[38;5;21mdetect_problems\u001b[39m(file_path):\n\u001b[1;32m---> 16\u001b[0m     data \u001b[38;5;241m=\u001b[39m \u001b[43mpd\u001b[49m\u001b[38;5;241;43m.\u001b[39;49m\u001b[43mread_csv\u001b[49m\u001b[43m(\u001b[49m\u001b[43mfile_path\u001b[49m\u001b[43m,\u001b[49m\u001b[43m \u001b[49m\u001b[43mheader\u001b[49m\u001b[38;5;241;43m=\u001b[39;49m\u001b[38;5;28;43;01mNone\u001b[39;49;00m\u001b[43m)\u001b[49m\n\u001b[0;32m     17\u001b[0m     means \u001b[38;5;241m=\u001b[39m patient_summary(data)\n\u001b[0;32m     18\u001b[0m     \u001b[38;5;28;01mreturn\u001b[39;00m check_zeros(means)\n",
      "File \u001b[1;32mc:\\Users\\chait\\miniconda3\\envs\\dsi_participant\\lib\\site-packages\\pandas\\io\\parsers\\readers.py:1026\u001b[0m, in \u001b[0;36mread_csv\u001b[1;34m(filepath_or_buffer, sep, delimiter, header, names, index_col, usecols, dtype, engine, converters, true_values, false_values, skipinitialspace, skiprows, skipfooter, nrows, na_values, keep_default_na, na_filter, verbose, skip_blank_lines, parse_dates, infer_datetime_format, keep_date_col, date_parser, date_format, dayfirst, cache_dates, iterator, chunksize, compression, thousands, decimal, lineterminator, quotechar, quoting, doublequote, escapechar, comment, encoding, encoding_errors, dialect, on_bad_lines, delim_whitespace, low_memory, memory_map, float_precision, storage_options, dtype_backend)\u001b[0m\n\u001b[0;32m   1013\u001b[0m kwds_defaults \u001b[38;5;241m=\u001b[39m _refine_defaults_read(\n\u001b[0;32m   1014\u001b[0m     dialect,\n\u001b[0;32m   1015\u001b[0m     delimiter,\n\u001b[1;32m   (...)\u001b[0m\n\u001b[0;32m   1022\u001b[0m     dtype_backend\u001b[38;5;241m=\u001b[39mdtype_backend,\n\u001b[0;32m   1023\u001b[0m )\n\u001b[0;32m   1024\u001b[0m kwds\u001b[38;5;241m.\u001b[39mupdate(kwds_defaults)\n\u001b[1;32m-> 1026\u001b[0m \u001b[38;5;28;01mreturn\u001b[39;00m \u001b[43m_read\u001b[49m\u001b[43m(\u001b[49m\u001b[43mfilepath_or_buffer\u001b[49m\u001b[43m,\u001b[49m\u001b[43m \u001b[49m\u001b[43mkwds\u001b[49m\u001b[43m)\u001b[49m\n",
      "File \u001b[1;32mc:\\Users\\chait\\miniconda3\\envs\\dsi_participant\\lib\\site-packages\\pandas\\io\\parsers\\readers.py:620\u001b[0m, in \u001b[0;36m_read\u001b[1;34m(filepath_or_buffer, kwds)\u001b[0m\n\u001b[0;32m    617\u001b[0m _validate_names(kwds\u001b[38;5;241m.\u001b[39mget(\u001b[38;5;124m\"\u001b[39m\u001b[38;5;124mnames\u001b[39m\u001b[38;5;124m\"\u001b[39m, \u001b[38;5;28;01mNone\u001b[39;00m))\n\u001b[0;32m    619\u001b[0m \u001b[38;5;66;03m# Create the parser.\u001b[39;00m\n\u001b[1;32m--> 620\u001b[0m parser \u001b[38;5;241m=\u001b[39m TextFileReader(filepath_or_buffer, \u001b[38;5;241m*\u001b[39m\u001b[38;5;241m*\u001b[39mkwds)\n\u001b[0;32m    622\u001b[0m \u001b[38;5;28;01mif\u001b[39;00m chunksize \u001b[38;5;129;01mor\u001b[39;00m iterator:\n\u001b[0;32m    623\u001b[0m     \u001b[38;5;28;01mreturn\u001b[39;00m parser\n",
      "File \u001b[1;32mc:\\Users\\chait\\miniconda3\\envs\\dsi_participant\\lib\\site-packages\\pandas\\io\\parsers\\readers.py:1620\u001b[0m, in \u001b[0;36mTextFileReader.__init__\u001b[1;34m(self, f, engine, **kwds)\u001b[0m\n\u001b[0;32m   1617\u001b[0m     \u001b[38;5;28mself\u001b[39m\u001b[38;5;241m.\u001b[39moptions[\u001b[38;5;124m\"\u001b[39m\u001b[38;5;124mhas_index_names\u001b[39m\u001b[38;5;124m\"\u001b[39m] \u001b[38;5;241m=\u001b[39m kwds[\u001b[38;5;124m\"\u001b[39m\u001b[38;5;124mhas_index_names\u001b[39m\u001b[38;5;124m\"\u001b[39m]\n\u001b[0;32m   1619\u001b[0m \u001b[38;5;28mself\u001b[39m\u001b[38;5;241m.\u001b[39mhandles: IOHandles \u001b[38;5;241m|\u001b[39m \u001b[38;5;28;01mNone\u001b[39;00m \u001b[38;5;241m=\u001b[39m \u001b[38;5;28;01mNone\u001b[39;00m\n\u001b[1;32m-> 1620\u001b[0m \u001b[38;5;28mself\u001b[39m\u001b[38;5;241m.\u001b[39m_engine \u001b[38;5;241m=\u001b[39m \u001b[38;5;28;43mself\u001b[39;49m\u001b[38;5;241;43m.\u001b[39;49m\u001b[43m_make_engine\u001b[49m\u001b[43m(\u001b[49m\u001b[43mf\u001b[49m\u001b[43m,\u001b[49m\u001b[43m \u001b[49m\u001b[38;5;28;43mself\u001b[39;49m\u001b[38;5;241;43m.\u001b[39;49m\u001b[43mengine\u001b[49m\u001b[43m)\u001b[49m\n",
      "File \u001b[1;32mc:\\Users\\chait\\miniconda3\\envs\\dsi_participant\\lib\\site-packages\\pandas\\io\\parsers\\readers.py:1880\u001b[0m, in \u001b[0;36mTextFileReader._make_engine\u001b[1;34m(self, f, engine)\u001b[0m\n\u001b[0;32m   1878\u001b[0m     \u001b[38;5;28;01mif\u001b[39;00m \u001b[38;5;124m\"\u001b[39m\u001b[38;5;124mb\u001b[39m\u001b[38;5;124m\"\u001b[39m \u001b[38;5;129;01mnot\u001b[39;00m \u001b[38;5;129;01min\u001b[39;00m mode:\n\u001b[0;32m   1879\u001b[0m         mode \u001b[38;5;241m+\u001b[39m\u001b[38;5;241m=\u001b[39m \u001b[38;5;124m\"\u001b[39m\u001b[38;5;124mb\u001b[39m\u001b[38;5;124m\"\u001b[39m\n\u001b[1;32m-> 1880\u001b[0m \u001b[38;5;28mself\u001b[39m\u001b[38;5;241m.\u001b[39mhandles \u001b[38;5;241m=\u001b[39m \u001b[43mget_handle\u001b[49m\u001b[43m(\u001b[49m\n\u001b[0;32m   1881\u001b[0m \u001b[43m    \u001b[49m\u001b[43mf\u001b[49m\u001b[43m,\u001b[49m\n\u001b[0;32m   1882\u001b[0m \u001b[43m    \u001b[49m\u001b[43mmode\u001b[49m\u001b[43m,\u001b[49m\n\u001b[0;32m   1883\u001b[0m \u001b[43m    \u001b[49m\u001b[43mencoding\u001b[49m\u001b[38;5;241;43m=\u001b[39;49m\u001b[38;5;28;43mself\u001b[39;49m\u001b[38;5;241;43m.\u001b[39;49m\u001b[43moptions\u001b[49m\u001b[38;5;241;43m.\u001b[39;49m\u001b[43mget\u001b[49m\u001b[43m(\u001b[49m\u001b[38;5;124;43m\"\u001b[39;49m\u001b[38;5;124;43mencoding\u001b[39;49m\u001b[38;5;124;43m\"\u001b[39;49m\u001b[43m,\u001b[49m\u001b[43m \u001b[49m\u001b[38;5;28;43;01mNone\u001b[39;49;00m\u001b[43m)\u001b[49m\u001b[43m,\u001b[49m\n\u001b[0;32m   1884\u001b[0m \u001b[43m    \u001b[49m\u001b[43mcompression\u001b[49m\u001b[38;5;241;43m=\u001b[39;49m\u001b[38;5;28;43mself\u001b[39;49m\u001b[38;5;241;43m.\u001b[39;49m\u001b[43moptions\u001b[49m\u001b[38;5;241;43m.\u001b[39;49m\u001b[43mget\u001b[49m\u001b[43m(\u001b[49m\u001b[38;5;124;43m\"\u001b[39;49m\u001b[38;5;124;43mcompression\u001b[39;49m\u001b[38;5;124;43m\"\u001b[39;49m\u001b[43m,\u001b[49m\u001b[43m \u001b[49m\u001b[38;5;28;43;01mNone\u001b[39;49;00m\u001b[43m)\u001b[49m\u001b[43m,\u001b[49m\n\u001b[0;32m   1885\u001b[0m \u001b[43m    \u001b[49m\u001b[43mmemory_map\u001b[49m\u001b[38;5;241;43m=\u001b[39;49m\u001b[38;5;28;43mself\u001b[39;49m\u001b[38;5;241;43m.\u001b[39;49m\u001b[43moptions\u001b[49m\u001b[38;5;241;43m.\u001b[39;49m\u001b[43mget\u001b[49m\u001b[43m(\u001b[49m\u001b[38;5;124;43m\"\u001b[39;49m\u001b[38;5;124;43mmemory_map\u001b[39;49m\u001b[38;5;124;43m\"\u001b[39;49m\u001b[43m,\u001b[49m\u001b[43m \u001b[49m\u001b[38;5;28;43;01mFalse\u001b[39;49;00m\u001b[43m)\u001b[49m\u001b[43m,\u001b[49m\n\u001b[0;32m   1886\u001b[0m \u001b[43m    \u001b[49m\u001b[43mis_text\u001b[49m\u001b[38;5;241;43m=\u001b[39;49m\u001b[43mis_text\u001b[49m\u001b[43m,\u001b[49m\n\u001b[0;32m   1887\u001b[0m \u001b[43m    \u001b[49m\u001b[43merrors\u001b[49m\u001b[38;5;241;43m=\u001b[39;49m\u001b[38;5;28;43mself\u001b[39;49m\u001b[38;5;241;43m.\u001b[39;49m\u001b[43moptions\u001b[49m\u001b[38;5;241;43m.\u001b[39;49m\u001b[43mget\u001b[49m\u001b[43m(\u001b[49m\u001b[38;5;124;43m\"\u001b[39;49m\u001b[38;5;124;43mencoding_errors\u001b[39;49m\u001b[38;5;124;43m\"\u001b[39;49m\u001b[43m,\u001b[49m\u001b[43m \u001b[49m\u001b[38;5;124;43m\"\u001b[39;49m\u001b[38;5;124;43mstrict\u001b[39;49m\u001b[38;5;124;43m\"\u001b[39;49m\u001b[43m)\u001b[49m\u001b[43m,\u001b[49m\n\u001b[0;32m   1888\u001b[0m \u001b[43m    \u001b[49m\u001b[43mstorage_options\u001b[49m\u001b[38;5;241;43m=\u001b[39;49m\u001b[38;5;28;43mself\u001b[39;49m\u001b[38;5;241;43m.\u001b[39;49m\u001b[43moptions\u001b[49m\u001b[38;5;241;43m.\u001b[39;49m\u001b[43mget\u001b[49m\u001b[43m(\u001b[49m\u001b[38;5;124;43m\"\u001b[39;49m\u001b[38;5;124;43mstorage_options\u001b[39;49m\u001b[38;5;124;43m\"\u001b[39;49m\u001b[43m,\u001b[49m\u001b[43m \u001b[49m\u001b[38;5;28;43;01mNone\u001b[39;49;00m\u001b[43m)\u001b[49m\u001b[43m,\u001b[49m\n\u001b[0;32m   1889\u001b[0m \u001b[43m\u001b[49m\u001b[43m)\u001b[49m\n\u001b[0;32m   1890\u001b[0m \u001b[38;5;28;01massert\u001b[39;00m \u001b[38;5;28mself\u001b[39m\u001b[38;5;241m.\u001b[39mhandles \u001b[38;5;129;01mis\u001b[39;00m \u001b[38;5;129;01mnot\u001b[39;00m \u001b[38;5;28;01mNone\u001b[39;00m\n\u001b[0;32m   1891\u001b[0m f \u001b[38;5;241m=\u001b[39m \u001b[38;5;28mself\u001b[39m\u001b[38;5;241m.\u001b[39mhandles\u001b[38;5;241m.\u001b[39mhandle\n",
      "File \u001b[1;32mc:\\Users\\chait\\miniconda3\\envs\\dsi_participant\\lib\\site-packages\\pandas\\io\\common.py:873\u001b[0m, in \u001b[0;36mget_handle\u001b[1;34m(path_or_buf, mode, encoding, compression, memory_map, is_text, errors, storage_options)\u001b[0m\n\u001b[0;32m    868\u001b[0m \u001b[38;5;28;01melif\u001b[39;00m \u001b[38;5;28misinstance\u001b[39m(handle, \u001b[38;5;28mstr\u001b[39m):\n\u001b[0;32m    869\u001b[0m     \u001b[38;5;66;03m# Check whether the filename is to be opened in binary mode.\u001b[39;00m\n\u001b[0;32m    870\u001b[0m     \u001b[38;5;66;03m# Binary mode does not support 'encoding' and 'newline'.\u001b[39;00m\n\u001b[0;32m    871\u001b[0m     \u001b[38;5;28;01mif\u001b[39;00m ioargs\u001b[38;5;241m.\u001b[39mencoding \u001b[38;5;129;01mand\u001b[39;00m \u001b[38;5;124m\"\u001b[39m\u001b[38;5;124mb\u001b[39m\u001b[38;5;124m\"\u001b[39m \u001b[38;5;129;01mnot\u001b[39;00m \u001b[38;5;129;01min\u001b[39;00m ioargs\u001b[38;5;241m.\u001b[39mmode:\n\u001b[0;32m    872\u001b[0m         \u001b[38;5;66;03m# Encoding\u001b[39;00m\n\u001b[1;32m--> 873\u001b[0m         handle \u001b[38;5;241m=\u001b[39m \u001b[38;5;28;43mopen\u001b[39;49m\u001b[43m(\u001b[49m\n\u001b[0;32m    874\u001b[0m \u001b[43m            \u001b[49m\u001b[43mhandle\u001b[49m\u001b[43m,\u001b[49m\n\u001b[0;32m    875\u001b[0m \u001b[43m            \u001b[49m\u001b[43mioargs\u001b[49m\u001b[38;5;241;43m.\u001b[39;49m\u001b[43mmode\u001b[49m\u001b[43m,\u001b[49m\n\u001b[0;32m    876\u001b[0m \u001b[43m            \u001b[49m\u001b[43mencoding\u001b[49m\u001b[38;5;241;43m=\u001b[39;49m\u001b[43mioargs\u001b[49m\u001b[38;5;241;43m.\u001b[39;49m\u001b[43mencoding\u001b[49m\u001b[43m,\u001b[49m\n\u001b[0;32m    877\u001b[0m \u001b[43m            \u001b[49m\u001b[43merrors\u001b[49m\u001b[38;5;241;43m=\u001b[39;49m\u001b[43merrors\u001b[49m\u001b[43m,\u001b[49m\n\u001b[0;32m    878\u001b[0m \u001b[43m            \u001b[49m\u001b[43mnewline\u001b[49m\u001b[38;5;241;43m=\u001b[39;49m\u001b[38;5;124;43m\"\u001b[39;49m\u001b[38;5;124;43m\"\u001b[39;49m\u001b[43m,\u001b[49m\n\u001b[0;32m    879\u001b[0m \u001b[43m        \u001b[49m\u001b[43m)\u001b[49m\n\u001b[0;32m    880\u001b[0m     \u001b[38;5;28;01melse\u001b[39;00m:\n\u001b[0;32m    881\u001b[0m         \u001b[38;5;66;03m# Binary mode\u001b[39;00m\n\u001b[0;32m    882\u001b[0m         handle \u001b[38;5;241m=\u001b[39m \u001b[38;5;28mopen\u001b[39m(handle, ioargs\u001b[38;5;241m.\u001b[39mmode)\n",
      "\u001b[1;31mFileNotFoundError\u001b[0m: [Errno 2] No such file or directory: 'C:/Users/chait/projects/dsi/python/05_src/data/assignment_2_data/inflammation_01.csv'"
     ]
    }
   ],
   "source": [
    "# Test out your code here\n",
    "# Your output for the first file should be False\n",
    "print(detect_problems(all_paths[0]))"
   ]
  },
  {
   "cell_type": "code",
   "execution_count": 72,
   "metadata": {},
   "outputs": [],
   "source": [
    "def patient_summary(data):\n",
    "    return data.mean(axis=1).values  # axis=1 computes row means\n"
   ]
  },
  {
   "cell_type": "code",
   "execution_count": 67,
   "metadata": {},
   "outputs": [
    {
     "ename": "IndexError",
     "evalue": "list index out of range",
     "output_type": "error",
     "traceback": [
      "\u001b[1;31m---------------------------------------------------------------------------\u001b[0m",
      "\u001b[1;31mIndexError\u001b[0m                                Traceback (most recent call last)",
      "Cell \u001b[1;32mIn[67], line 1\u001b[0m\n\u001b[1;32m----> 1\u001b[0m result \u001b[38;5;241m=\u001b[39m detect_problems(\u001b[43mall_paths\u001b[49m\u001b[43m[\u001b[49m\u001b[38;5;241;43m0\u001b[39;49m\u001b[43m]\u001b[49m)\n\u001b[0;32m      2\u001b[0m \u001b[38;5;28mprint\u001b[39m(result)  \u001b[38;5;66;03m# Expected output: False\u001b[39;00m\n",
      "\u001b[1;31mIndexError\u001b[0m: list index out of range"
     ]
    }
   ],
   "source": [
    "result = detect_problems(all_paths[0])\n",
    "print(result)  # Expected output: False\n"
   ]
  },
  {
   "cell_type": "code",
   "execution_count": 68,
   "metadata": {},
   "outputs": [
    {
     "name": "stdout",
     "output_type": "stream",
     "text": [
      "File 1: inflammation_01.csv → File not found\n",
      "File 2: inflammation_02.csv → File not found\n",
      "File 3: inflammation_03.csv → File not found\n",
      "File 4: inflammation_04.csv → File not found\n",
      "File 5: inflammation_05.csv → File not found\n",
      "File 6: inflammation_06.csv → File not found\n",
      "File 7: inflammation_07.csv → File not found\n",
      "File 8: inflammation_08.csv → File not found\n",
      "File 9: inflammation_09.csv → File not found\n",
      "File 10: inflammation_10.csv → File not found\n",
      "File 11: inflammation_11.csv → File not found\n",
      "File 12: inflammation_12.csv → File not found\n"
     ]
    }
   ],
   "source": [
    "import os\n",
    "import pandas as pd\n",
    "import numpy as np\n",
    "\n",
    "# Define patient_summary if not already defined\n",
    "def patient_summary(data):\n",
    "    \"\"\"Return per-patient (row) means as a NumPy array.\"\"\"\n",
    "    return data.mean(axis=1).values\n",
    "\n",
    "# check_zeros function (already defined)\n",
    "def check_zeros(x):\n",
    "    return np.any(x == 0)\n",
    "\n",
    "# detect_problems function\n",
    "def detect_problems(file_path):\n",
    "    data = pd.read_csv(file_path, header=None)\n",
    "    means = patient_summary(data)\n",
    "    return check_zeros(means)\n",
    "\n",
    "# Make sure all_paths points to the correct absolute or relative CSV paths\n",
    "all_paths = [\n",
    "    \"C:/Users/chait/projects/dsi/python/05_src/data/assignment_2_data/inflammation_01.csv\",\n",
    "    \"C:/Users/chait/projects/dsi/python/05_src/data/assignment_2_data/inflammation_02.csv\",\n",
    "    \"C:/Users/chait/projects/dsi/python/05_src/data/assignment_2_data/inflammation_03.csv\",\n",
    "    \"C:/Users/chait/projects/dsi/python/05_src/data/assignment_2_data/inflammation_04.csv\",\n",
    "    \"C:/Users/chait/projects/dsi/python/05_src/data/assignment_2_data/inflammation_05.csv\",\n",
    "    \"C:/Users/chait/projects/dsi/python/05_src/data/assignment_2_data/inflammation_06.csv\",\n",
    "    \"C:/Users/chait/projects/dsi/python/05_src/data/assignment_2_data/inflammation_07.csv\",\n",
    "    \"C:/Users/chait/projects/dsi/python/05_src/data/assignment_2_data/inflammation_08.csv\",\n",
    "    \"C:/Users/chait/projects/dsi/python/05_src/data/assignment_2_data/inflammation_09.csv\",\n",
    "    \"C:/Users/chait/projects/dsi/python/05_src/data/assignment_2_data/inflammation_10.csv\",\n",
    "    \"C:/Users/chait/projects/dsi/python/05_src/data/assignment_2_data/inflammation_11.csv\",\n",
    "    \"C:/Users/chait/projects/dsi/python/05_src/data/assignment_2_data/inflammation_12.csv\"\n",
    "]\n",
    "\n",
    "# Loop through all files and check for problems\n",
    "for i, path in enumerate(all_paths, start=1):\n",
    "    if os.path.exists(path):\n",
    "        problem = detect_problems(path)\n",
    "        print(f\"File {i}: {os.path.basename(path)} → Problem? {problem}\")\n",
    "    else:\n",
    "        print(f\"File {i}: {os.path.basename(path)} → File not found\")\n"
   ]
  },
  {
   "cell_type": "markdown",
   "metadata": {
    "id": "j9SUzhiGuHhS"
   },
   "source": [
    "| Criteria                     | Complete Criteria                                                                                                                                                                 | Incomplete Criteria                                                                                                         |\n",
    "|------------------------------|-------------------------------------------------------------------------------------------------------------------------------------------------------------------------------|-----------------------------------------------------------------------------------------------------------------------|\n",
    "| **General Criteria**         |                                                                                                                                                                               |                                                                                                                       |\n",
    "| Code Execution               | All code cells execute without errors.                                                                                                                                        | Any code cell produces an error upon execution.                                                                      |\n",
    "| Code Quality                 | Code is well-organized, concise, and includes necessary comments for clarity.                                                                                                 | Code is unorganized, verbose, or lacks necessary comments.                                                            |\n",
    "| Data Handling                | Data files are correctly handled and processed.                                                                                                                               | Data files are not handled or processed correctly.                                                                    |\n",
    "| Adherence to Instructions    | Follows all instructions and requirements as per the assignment.                                                                                                              | Misses or incorrectly implements one or more of the assignment requirements.                                         |\n",
    "| **Specific Criteria**        |                                                                                                                                                                               |                                                                                                                       |\n",
    "| 1. Reading in our files | Correctly prints out information from the first file.                                                  | Fails to print out information from the first file.                              |\n",
    "| 2. Summarizing our data | Correctly defines `patient_summary()` function. Function processes data as per `operation` and outputs correctly shaped data (60 entries).                                   | Incomplete or incorrect definition of `patient_summary()`. Incorrect implementation of operation or wrong output shape.|\n",
    "| 3. Checking for Errors  | Correctly defines `detect_problems()` function. Function uses `patient_summary()` and `check_zeros()` to identify mean inflammation of 0 accurately.                        | Incorrect definition or implementation of `detect_problems()` function. Fails to accurately identify mean inflammation of 0.|\n",
    "| **Overall Assessment**       | Meets all the general and specific criteria, indicating a strong understanding of the assignment objectives.                                                                  | Fails to meet one or more of the general or specific criteria, indicating a need for further learning or clarification.|\n"
   ]
  },
  {
   "cell_type": "markdown",
   "metadata": {
    "id": "TY_ppBzHvdak"
   },
   "source": [
    "## References\n",
    "\n",
    "### Data Sources\n",
    "- Software Carpentry. _Python Novice Inflammation Data_. http://swcarpentry.github.io/python-novice-inflammation/data/python-novice-inflammation-data.zip\n"
   ]
  }
 ],
 "metadata": {
  "colab": {
   "provenance": []
  },
  "kernelspec": {
   "display_name": "dsi_participant",
   "language": "python",
   "name": "python3"
  },
  "language_info": {
   "codemirror_mode": {
    "name": "ipython",
    "version": 3
   },
   "file_extension": ".py",
   "mimetype": "text/x-python",
   "name": "python",
   "nbconvert_exporter": "python",
   "pygments_lexer": "ipython3",
   "version": "3.9.19"
  }
 },
 "nbformat": 4,
 "nbformat_minor": 0
}
